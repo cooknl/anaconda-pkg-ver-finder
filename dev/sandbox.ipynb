{
 "cells": [
  {
   "cell_type": "code",
   "execution_count": 1,
   "metadata": {},
   "outputs": [],
   "source": [
    "import json\n",
    "import pathlib\n",
    "from pprint import pprint\n",
    "from collections import defaultdict\n",
    "from bs4 import BeautifulSoup\n",
    "import requests\n",
    "import re\n",
    "from urllib.parse import urljoin\n",
    "import sqlite3"
   ]
  },
  {
   "cell_type": "code",
   "execution_count": 2,
   "metadata": {},
   "outputs": [],
   "source": [
    "pkgs_json_file = 'pkgs.json'\n",
    "pkgs_db_file = 'pkgs.db'"
   ]
  },
  {
   "cell_type": "code",
   "execution_count": 3,
   "metadata": {},
   "outputs": [],
   "source": [
    "with open(pkgs_json_file, 'r') as f:\n",
    "    pkgs_dicts = json.load(f)"
   ]
  },
  {
   "cell_type": "code",
   "execution_count": 4,
   "metadata": {},
   "outputs": [],
   "source": [
    "conn = sqlite3.connect(pkgs_db_file)\n",
    "sqlite3.register_adapter(bool, int)\n",
    "sqlite3.register_converter(\"BOOLEAN\", lambda v: bool(int(v)))\n",
    "c = conn.cursor()"
   ]
  },
  {
   "cell_type": "code",
   "execution_count": 5,
   "metadata": {},
   "outputs": [],
   "source": [
    "c.execute(f\"\"\"\n",
    "            CREATE TABLE IF NOT EXISTS 'packages'\n",
    "            (pkg_name text,\n",
    "             pkg_url text,\n",
    "             pkg_summary text,\n",
    "             installer_name text,\n",
    "             installer_url text,\n",
    "             anaconda_ver text,\n",
    "             python_ver text,\n",
    "             pkg_ver text,\n",
    "             pkg_included BOOLEAN)\n",
    "           \"\"\")\n",
    "conn.commit()"
   ]
  },
  {
   "cell_type": "code",
   "execution_count": 6,
   "metadata": {},
   "outputs": [
    {
     "output_type": "execute_result",
     "data": {
      "text/plain": [
       "(('pkg_name', None, None, None, None, None, None),\n",
       " ('pkg_url', None, None, None, None, None, None),\n",
       " ('pkg_summary', None, None, None, None, None, None),\n",
       " ('installer_name', None, None, None, None, None, None),\n",
       " ('installer_url', None, None, None, None, None, None),\n",
       " ('anaconda_ver', None, None, None, None, None, None),\n",
       " ('python_ver', None, None, None, None, None, None),\n",
       " ('pkg_ver', None, None, None, None, None, None),\n",
       " ('pkg_included', None, None, None, None, None, None))"
      ]
     },
     "metadata": {},
     "execution_count": 6
    }
   ],
   "source": [
    "c.execute(f\"SELECT * FROM packages\")\n",
    "c.description"
   ]
  },
  {
   "cell_type": "code",
   "execution_count": 7,
   "metadata": {},
   "outputs": [],
   "source": [
    "c.execute(f\"\"\"\n",
    "            DROP TABLE IF EXISTS 'FOO'\n",
    "           \"\"\")\n",
    "conn.commit()"
   ]
  },
  {
   "cell_type": "code",
   "execution_count": 8,
   "metadata": {},
   "outputs": [],
   "source": [
    "c.description"
   ]
  },
  {
   "cell_type": "code",
   "execution_count": 9,
   "metadata": {},
   "outputs": [
    {
     "output_type": "execute_result",
     "data": {
      "text/plain": [
       "[('packages',)]"
      ]
     },
     "metadata": {},
     "execution_count": 9
    }
   ],
   "source": [
    "table_name = 'packages'\n",
    "c.execute(f\"\"\"\n",
    "           SELECT name \n",
    "           FROM sqlite_master \n",
    "           WHERE type='table' AND name='{table_name}';\n",
    "           \"\"\")\n",
    "c.fetchall()"
   ]
  },
  {
   "cell_type": "code",
   "execution_count": 10,
   "metadata": {},
   "outputs": [
    {
     "output_type": "execute_result",
     "data": {
      "text/plain": [
       "dict_keys(['installer_url', 'anaconda', 'python', 'pkg_version', 'pkg_included'])"
      ]
     },
     "metadata": {},
     "execution_count": 10
    }
   ],
   "source": [
    "pkgs_dicts['svn']['installers']['4.1.0_py27'].keys()"
   ]
  },
  {
   "cell_type": "code",
   "execution_count": 11,
   "metadata": {},
   "outputs": [],
   "source": [
    "\n",
    "for pkg in pkgs_dicts.keys():\n",
    "    # pkg_url, pkg_summary, DICT installers\n",
    "    for installer in pkgs_dicts[pkg]['installers'].keys():\n",
    "        # installer_url, anaconda, python, pkg_version, pkg_included\n",
    "        parameters = (  pkg,\n",
    "                        pkgs_dicts[pkg]['pkg_url'],\n",
    "                        pkgs_dicts[pkg]['pkg_summary'],\n",
    "                        installer,\n",
    "                        pkgs_dicts[pkg]['installers'][installer]['installer_url'],\n",
    "                        pkgs_dicts[pkg]['installers'][installer]['anaconda'],\n",
    "                        pkgs_dicts[pkg]['installers'][installer]['python'],\n",
    "                        pkgs_dicts[pkg]['installers'][installer]['pkg_version'],\n",
    "                        pkgs_dicts[pkg]['installers'][installer]['pkg_included'],\n",
    "                        )\n",
    "        query = \"INSERT INTO packages VALUES ( ?,?,?, ?,?,?, ?,?,? )\"\n",
    "        c.execute(query, parameters)\n",
    "conn.commit()"
   ]
  },
  {
   "cell_type": "code",
   "execution_count": 12,
   "metadata": {},
   "outputs": [],
   "source": [
    "\n",
    "conn.close()"
   ]
  },
  {
   "source": [
    "SELECT name FROM sqlite_master WHERE type='table' AND name='{table_name}';"
   ],
   "cell_type": "markdown",
   "metadata": {}
  }
 ],
 "metadata": {
  "kernelspec": {
   "name": "python37664bitbaseconda7d5ee3bddacc49d88e7796986fd14b21",
   "display_name": "Python 3.7.6 64-bit ('base': conda)",
   "language": "python"
  },
  "language_info": {
   "codemirror_mode": {
    "name": "ipython",
    "version": 3
   },
   "file_extension": ".py",
   "mimetype": "text/x-python",
   "name": "python",
   "nbconvert_exporter": "python",
   "pygments_lexer": "ipython3",
   "version": "3.7.6-final"
  }
 },
 "nbformat": 4,
 "nbformat_minor": 2
}