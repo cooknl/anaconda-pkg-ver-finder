{
 "metadata": {
  "language_info": {
   "codemirror_mode": {
    "name": "ipython",
    "version": 3
   },
   "file_extension": ".py",
   "mimetype": "text/x-python",
   "name": "python",
   "nbconvert_exporter": "python",
   "pygments_lexer": "ipython3",
   "version": "3.8.5-final"
  },
  "orig_nbformat": 2,
  "kernelspec": {
   "name": "python3",
   "display_name": "Python 3.8.5 64-bit (conda)",
   "metadata": {
    "interpreter": {
     "hash": "a0f164de3930ae25471e4d8a9199d40071420863d9af277acb598b2108df745b"
    }
   }
  }
 },
 "nbformat": 4,
 "nbformat_minor": 2,
 "cells": [
  {
   "cell_type": "code",
   "execution_count": 1,
   "metadata": {},
   "outputs": [],
   "source": [
    "from bs4 import BeautifulSoup\n",
    "import requests\n",
    "import re"
   ]
  },
  {
   "cell_type": "code",
   "execution_count": 2,
   "metadata": {},
   "outputs": [],
   "source": [
    "url = 'https://docs.anaconda.com/anaconda/packages/old-pkg-lists/4.0.0/py34/'\n",
    "r = requests.get(url)\n",
    "s = BeautifulSoup(r.content)\n",
    "current = s.find(class_='current reference internal') # Gets this page's Anaconda and Python versions\n",
    "anaconda_v, python_v = re.findall(r'Packages included in Anaconda ([\\d\\.]*\\d) for Python version ([\\d\\.]*\\d)',current.string)[0]\n",
    "display(anaconda_v, python_v)"
   ]
  },
  {
   "cell_type": "code",
   "execution_count": 5,
   "metadata": {},
   "outputs": [
    {
     "output_type": "execute_result",
     "data": {
      "text/plain": [
       "<a class=\"current reference internal\" href=\"#\">Packages included in Anaconda 4.0.0 for Python version 3.4</a>"
      ]
     },
     "metadata": {},
     "execution_count": 5
    }
   ],
   "source": [
    "\n",
    "current"
   ]
  },
  {
   "cell_type": "code",
   "execution_count": 6,
   "metadata": {},
   "outputs": [
    {
     "output_type": "execute_result",
     "data": {
      "text/plain": [
       "bs4.element.Tag"
      ]
     },
     "metadata": {},
     "execution_count": 6
    }
   ],
   "source": [
    "type(current)"
   ]
  },
  {
   "cell_type": "code",
   "execution_count": 7,
   "metadata": {},
   "outputs": [
    {
     "output_type": "execute_result",
     "data": {
      "text/plain": [
       "'Packages included in Anaconda 4.0.0 for Python version 3.4'"
      ]
     },
     "metadata": {},
     "execution_count": 7
    }
   ],
   "source": [
    "current.string"
   ]
  },
  {
   "cell_type": "code",
   "execution_count": 8,
   "metadata": {},
   "outputs": [
    {
     "output_type": "display_data",
     "data": {
      "text/plain": "'4.0.0'"
     },
     "metadata": {}
    },
    {
     "output_type": "display_data",
     "data": {
      "text/plain": "'3.4'"
     },
     "metadata": {}
    }
   ],
   "source": []
  }
 ]
}