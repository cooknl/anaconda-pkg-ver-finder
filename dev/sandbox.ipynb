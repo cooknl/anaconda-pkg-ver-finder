{
 "cells": [
  {
   "cell_type": "code",
   "execution_count": 1,
   "metadata": {},
   "outputs": [],
   "source": [
    "import json\n",
    "import pathlib\n",
    "from pprint import pprint\n",
    "from collections import defaultdict\n",
    "from bs4 import BeautifulSoup\n",
    "import requests\n",
    "import re"
   ]
  },
  {
   "cell_type": "code",
   "execution_count": 2,
   "metadata": {},
   "outputs": [],
   "source": [
    "url = 'https://docs.anaconda.com/anaconda/packages/old-pkg-lists/1.0/'"
   ]
  },
  {
   "cell_type": "code",
   "execution_count": 3,
   "metadata": {},
   "outputs": [],
   "source": [
    "installer = {}\n",
    "installer['url'] = url\n"
   ]
  },
  {
   "cell_type": "code",
   "execution_count": 4,
   "metadata": {},
   "outputs": [],
   "source": [
    "r = requests.get(url)\n",
    "s = BeautifulSoup(r.content, features=\"lxml\")"
   ]
  },
  {
   "cell_type": "code",
   "execution_count": 6,
   "metadata": {},
   "outputs": [],
   "source": [
    "url_parts = url.split('/')\n",
    "\n",
    "installer['anaconda'] = url_parts[6]\n"
   ]
  },
  {
   "cell_type": "code",
   "execution_count": 27,
   "metadata": {},
   "outputs": [],
   "source": [
    "raw_pkg_list = [li.string for li in s.find('table').find_all('li')]"
   ]
  },
  {
   "cell_type": "code",
   "execution_count": 90,
   "metadata": {},
   "outputs": [],
   "source": [
    "for e in raw_pkg_list:\n",
    "    if '*' in e:\n",
    "        included = False\n",
    "        e = e[:-2]\n",
    "    else:\n",
    "        included = True\n",
    "    if ('(' in e):\n",
    "        e = e.split('(')[0].strip()\n",
    "        linux_only = True\n",
    "    else:\n",
    "        linux_only = False\n",
    "    if ('.' not in e) and ('(' not in e) and (not any(map(str.isdigit, e))):\n",
    "        pkg_name = e\n",
    "        pkg_version = ''\n",
    "    if any(map(str.isdigit, e)):\n",
    "        if len(e.split(' ')) > 1:\n",
    "            pkg_name, pkg_version = e.split(' ')\n",
    "\n",
    "        else:\n",
    "            (pkg_name,), (pkg_version,) = zip(*re.findall(r'([\\D]+)(\\d[\\.\\d]+\\d)',e))"
   ]
  },
  {
   "cell_type": "code",
   "execution_count": 7,
   "metadata": {},
   "outputs": [],
   "source": [
    "\n",
    "if (installer['anaconda'].split('.')[0] == '1'):\n",
    "    raw_pkg_list = [li.string for li in s.find('table').find_all('li')]\n",
    "    \n",
    "    installer['pkgs'] = {}\n",
    "    for e in raw_pkg_list:\n",
    "        if '*' in e:\n",
    "            included = False\n",
    "            e = e[:-2]\n",
    "        else:\n",
    "            included = True\n",
    "        if ('(' in e):\n",
    "            e = e.split('(')[0].strip()\n",
    "            linux_only = True\n",
    "        else:\n",
    "            linux_only = False\n",
    "        if ('.' not in e) and ('(' not in e) and (not any(map(str.isdigit, e))):\n",
    "            pkg_name = e\n",
    "            pkg_version = ''\n",
    "        if any(map(str.isdigit, e)):\n",
    "            if len(e.split(' ')) > 1:\n",
    "                pkg_name, pkg_version = e.split(' ')\n",
    "\n",
    "            else:\n",
    "                (pkg_name,), (pkg_version,) = zip(*re.findall(r'([\\D]+)(\\d[\\.\\d]+\\d)',e))\n",
    "\n",
    "        installer['pkgs'][pkg_name] = {}\n",
    "        installer['pkgs'][pkg_name]['link'] = '' \n",
    "        installer['pkgs'][pkg_name]['version'] = pkg_version \n",
    "        installer['pkgs'][pkg_name]['summary'] = '' \n",
    "        installer['pkgs'][pkg_name]['included'] = included\n",
    "        installer['pkgs'][pkg_name]['Linux_only'] = linux_only\n",
    "\n",
    "    installer['python'] = installer['pkgs']['python']['version'] # get from python pkg.version\n",
    "\n",
    "elif (float(installer['anaconda'][:3]) < 2.2):\n",
    "    \n",
    "    installer['python'] = s.find('div', class_='section').p.string.split(' ')[-1]\n",
    "\n",
    "    pkg_table = s.find('table', class_='docutils', border='1')\n",
    "\n",
    "    installer['pkgs'] = {}\n",
    "    for row in pkg_table.tbody.find_all('tr')[1:]:\n",
    "        columns = row.find_all('td')\n",
    "        pkg_name = columns[0].string\n",
    "        installer['pkgs'][pkg_name] = {}\n",
    "        installer['pkgs'][pkg_name]['link'] = '' \n",
    "        installer['pkgs'][pkg_name]['version'] = columns[1].string \n",
    "        installer['pkgs'][pkg_name]['summary'] = columns[2].string \n",
    "        if columns[3].string == 'True':\n",
    "            installer['pkgs'][pkg_name]['included'] = True\n",
    "        else:\n",
    "            installer['pkgs'][pkg_name]['included'] = False"
   ]
  },
  {
   "cell_type": "code",
   "execution_count": null,
   "metadata": {},
   "outputs": [],
   "source": []
  }
 ],
 "metadata": {
  "kernelspec": {
   "name": "python3",
   "display_name": "Python 3.8.5 64-bit ('natha': virtualenv)",
   "metadata": {
    "interpreter": {
     "hash": "a0f164de3930ae25471e4d8a9199d40071420863d9af277acb598b2108df745b"
    }
   }
  },
  "language_info": {
   "codemirror_mode": {
    "name": "ipython",
    "version": 3
   },
   "file_extension": ".py",
   "mimetype": "text/x-python",
   "name": "python",
   "nbconvert_exporter": "python",
   "pygments_lexer": "ipython3",
   "version": "3.8.5-final"
  }
 },
 "nbformat": 4,
 "nbformat_minor": 2
}