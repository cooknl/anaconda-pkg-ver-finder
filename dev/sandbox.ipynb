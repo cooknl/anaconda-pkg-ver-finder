{
 "cells": [
  {
   "cell_type": "code",
   "execution_count": 1,
   "metadata": {},
   "outputs": [],
   "source": [
    "import json\n",
    "import pathlib\n",
    "from pprint import pprint\n",
    "\n",
    "json_filename = 'installers.json'\n",
    "\n",
    "json_file = pathlib.Path(json_filename)"
   ]
  },
  {
   "cell_type": "code",
   "execution_count": 2,
   "metadata": {},
   "outputs": [],
   "source": [
    "with open(json_file, 'r') as f:\n",
    "    installers_dicts = json.load(f)"
   ]
  },
  {
   "cell_type": "code",
   "execution_count": 6,
   "metadata": {},
   "outputs": [],
   "source": [
    "installer_id = '2020.02_py3.8_win-64'\n",
    "pkgs_dict = {}"
   ]
  },
  {
   "cell_type": "code",
   "execution_count": 7,
   "metadata": {},
   "outputs": [
    {
     "output_type": "stream",
     "name": "stdout",
     "text": [
      "{'included': False,\n 'link': 'https://github.com/sgillies/affine',\n 'summary': 'Matrices describing affine transformation of the plane. / '\n            'BSD-3-Clause',\n 'version': '2.3.0'}\n"
     ]
    }
   ],
   "source": [
    "pprint(installers_dicts[installer_id]['pkgs']['affine'])"
   ]
  },
  {
   "cell_type": "code",
   "execution_count": null,
   "metadata": {},
   "outputs": [],
   "source": [
    "for pkg in installers_dicts[installer_id]['pkgs'].keys():\n",
    "\n",
    "    # pkgs_dict[pkg] = {}\n",
    "    # pkgs_dict[pkg][]"
   ]
  }
 ],
 "metadata": {
  "kernelspec": {
   "name": "python3",
   "display_name": "Python 3.8.5 64-bit (conda)",
   "metadata": {
    "interpreter": {
     "hash": "a0f164de3930ae25471e4d8a9199d40071420863d9af277acb598b2108df745b"
    }
   }
  },
  "language_info": {
   "codemirror_mode": {
    "name": "ipython",
    "version": 3
   },
   "file_extension": ".py",
   "mimetype": "text/x-python",
   "name": "python",
   "nbconvert_exporter": "python",
   "pygments_lexer": "ipython3",
   "version": "3.8.5-final"
  }
 },
 "nbformat": 4,
 "nbformat_minor": 2
}