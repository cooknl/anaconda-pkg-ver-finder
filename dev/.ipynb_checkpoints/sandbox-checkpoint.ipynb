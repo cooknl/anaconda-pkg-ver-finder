{
 "cells": [
  {
   "cell_type": "code",
   "execution_count": 1,
   "metadata": {},
   "outputs": [],
   "source": [
    "from bs4 import BeautifulSoup\n",
    "import requests\n",
    "import re"
   ]
  },
  {
   "cell_type": "code",
   "execution_count": 2,
   "metadata": {},
   "outputs": [],
   "source": [
    "# url = 'https://docs.anaconda.com/anaconda/packages/old-pkg-lists/4.0.0/py34/'\n",
    "url = 'https://docs.anaconda.com/anaconda/packages/old-pkg-lists/4.0.0/py35/'\n",
    "r = requests.get(url)\n",
    "s = BeautifulSoup(r.content)\n",
    "current = s.find(class_='current reference internal') # Gets this page's Anaconda and Python versions\n",
    "anaconda_v, python_v = re.findall(r'Packages included in Anaconda ([\\d\\.]*\\d) for Python version ([\\d\\.]*\\d)',current.string)[0]\n"
   ]
  },
  {
   "cell_type": "code",
   "execution_count": 3,
   "metadata": {},
   "outputs": [],
   "source": [
    "installer = {}\n",
    "installer['anaconda'] = anaconda_v\n",
    "installer['python'] = python_v"
   ]
  },
  {
   "cell_type": "code",
   "execution_count": 4,
   "metadata": {},
   "outputs": [],
   "source": [
    "pkg_table = s.find('table', class_='docutils', border='1')"
   ]
  },
  {
   "cell_type": "code",
   "execution_count": null,
   "metadata": {},
   "outputs": [],
   "source": [
    "installer['pkgs'] = {}\n",
    "for row in pkg_table.find_all('tr')[1:]:\n",
    "    columns = row.find_all('td')\n",
    "    pkg_name = columns[0].a.string\n",
    "    installer['pkgs'][pkg_name] = {}\n",
    "    installer['pkgs'][pkg_name]['link'] = columns[0].a.get('href') \n",
    "    installer['pkgs'][pkg_name]['version'] = columns[1].string \n",
    "    installer['pkgs'][pkg_name]['summary'] = columns[2].string \n",
    "    if columns[3].i:\n",
    "        installer['pkgs'][pkg_name]['included'] = True\n",
    "    else:\n",
    "        installer['pkgs'][pkg_name]['included'] = False"
   ]
  },
  {
   "cell_type": "code",
   "execution_count": 16,
   "metadata": {},
   "outputs": [],
   "source": [
    "# installer_includes = installer.copy()\n",
    "# installer_includes['pkgs'] = dict(filter(lambda elem: elem[1]['included'], installer['pkgs'].items()))"
   ]
  },
  {
   "cell_type": "code",
   "execution_count": 15,
   "metadata": {},
   "outputs": [],
   "source": [
    "# installer_not_includes = installer.copy()\n",
    "# installer_not_includes['pkgs'] = dict(filter(lambda elem: not elem[1]['included'], installer['pkgs'].items()))"
   ]
  }
 ],
 "metadata": {
  "kernelspec": {
   "display_name": "Python 3",
   "language": "python",
   "name": "python3"
  },
  "language_info": {
   "codemirror_mode": {
    "name": "ipython",
    "version": 3
   },
   "file_extension": ".py",
   "mimetype": "text/x-python",
   "name": "python",
   "nbconvert_exporter": "python",
   "pygments_lexer": "ipython3",
   "version": "3.8.5"
  }
 },
 "nbformat": 4,
 "nbformat_minor": 2
}
